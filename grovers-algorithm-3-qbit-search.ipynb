{
 "cells": [
  {
   "cell_type": "code",
   "execution_count": 1,
   "id": "b2be4127",
   "metadata": {},
   "outputs": [],
   "source": [
    "from qiskit import *\n",
    "import numpy as np"
   ]
  },
  {
   "cell_type": "code",
   "execution_count": 2,
   "id": "f8063378",
   "metadata": {},
   "outputs": [],
   "source": [
    "# define the search list and target value\n",
    "\n",
    "search_list = [3, 0, 1, 2]\n",
    "target_value = 2"
   ]
  },
  {
   "cell_type": "code",
   "execution_count": 3,
   "id": "08d79bff",
   "metadata": {},
   "outputs": [
    {
     "name": "stdout",
     "output_type": "stream",
     "text": [
      "Target value 2 in binary: |10⟩\n"
     ]
    }
   ],
   "source": [
    "# convert target value to binary (2-bit representation)\n",
    "\n",
    "target_binary = format(target_value, '02b')\n",
    "print(f\"Target value {target_value} in binary: |{target_binary}⟩\")"
   ]
  },
  {
   "cell_type": "code",
   "execution_count": 4,
   "id": "1a95c312",
   "metadata": {},
   "outputs": [
    {
     "data": {
      "text/html": [
       "<pre style=\"word-wrap: normal;white-space: pre;background: #fff0;line-height: 1.1;font-family: &quot;Courier New&quot;,Courier,monospace\">     ┌───┐   ┌───┐\n",
       "q_0: ┤ X ├─■─┤ X ├\n",
       "     └───┘ │ └───┘\n",
       "q_1: ──────■──────\n",
       "                  </pre>"
      ],
      "text/plain": [
       "     ┌───┐   ┌───┐\n",
       "q_0: ┤ X ├─■─┤ X ├\n",
       "     └───┘ │ └───┘\n",
       "q_1: ──────■──────\n",
       "                  "
      ]
     },
     "execution_count": 4,
     "metadata": {},
     "output_type": "execute_result"
    }
   ],
   "source": [
    "# create oracle circuit for marking the target value's binary representation\n",
    "\n",
    "oracle = QuantumCircuit(2, name='oracle')\n",
    "\n",
    "if target_binary == '11':\n",
    "    oracle.cz(0, 1)\n",
    "elif target_binary == '01':\n",
    "    oracle.x(1)\n",
    "    oracle.cz(0, 1)\n",
    "    oracle.x(1)\n",
    "elif target_binary == '10':\n",
    "    oracle.x(0)\n",
    "    oracle.cz(0, 1)\n",
    "    oracle.x(0)\n",
    "elif target_binary == '00':\n",
    "    oracle.x([0, 1])\n",
    "    oracle.cz(0, 1)\n",
    "    oracle.x([0, 1])\n",
    "oracle_gate = oracle.to_gate()\n",
    "\n",
    "oracle.draw()"
   ]
  },
  {
   "cell_type": "code",
   "execution_count": 5,
   "id": "9747d681",
   "metadata": {},
   "outputs": [
    {
     "data": {
      "text/html": [
       "<pre style=\"word-wrap: normal;white-space: pre;background: #fff0;line-height: 1.1;font-family: &quot;Courier New&quot;,Courier,monospace\">     ┌───┐┌───┐   ┌───┐\n",
       "q_0: ┤ H ├┤ Z ├─■─┤ H ├\n",
       "     ├───┤├───┤ │ ├───┤\n",
       "q_1: ┤ H ├┤ Z ├─■─┤ H ├\n",
       "     └───┘└───┘   └───┘</pre>"
      ],
      "text/plain": [
       "     ┌───┐┌───┐   ┌───┐\n",
       "q_0: ┤ H ├┤ Z ├─■─┤ H ├\n",
       "     ├───┤├───┤ │ ├───┤\n",
       "q_1: ┤ H ├┤ Z ├─■─┤ H ├\n",
       "     └───┘└───┘   └───┘"
      ]
     },
     "execution_count": 5,
     "metadata": {},
     "output_type": "execute_result"
    }
   ],
   "source": [
    "# create reflection operator (diffusion operator)\n",
    "\n",
    "reflection = QuantumCircuit(2, name='reflection')\n",
    "reflection.h([0, 1])\n",
    "reflection.z([0, 1])\n",
    "reflection.cz(0, 1)\n",
    "reflection.h([0, 1])\n",
    "reflection_gate = reflection.to_gate()\n",
    "\n",
    "reflection.draw()"
   ]
  },
  {
   "cell_type": "code",
   "execution_count": 6,
   "id": "03aa749c",
   "metadata": {},
   "outputs": [
    {
     "data": {
      "text/html": [
       "<pre style=\"word-wrap: normal;white-space: pre;background: #fff0;line-height: 1.1;font-family: &quot;Courier New&quot;,Courier,monospace\">     ┌───┐┌─────────┐┌─────────────┐┌─┐   \n",
       "q_0: ┤ H ├┤0        ├┤0            ├┤M├───\n",
       "     ├───┤│  oracle ││  reflection │└╥┘┌─┐\n",
       "q_1: ┤ H ├┤1        ├┤1            ├─╫─┤M├\n",
       "     └───┘└─────────┘└─────────────┘ ║ └╥┘\n",
       "c: 2/════════════════════════════════╩══╩═\n",
       "                                     0  1 </pre>"
      ],
      "text/plain": [
       "     ┌───┐┌─────────┐┌─────────────┐┌─┐   \n",
       "q_0: ┤ H ├┤0        ├┤0            ├┤M├───\n",
       "     ├───┤│  oracle ││  reflection │└╥┘┌─┐\n",
       "q_1: ┤ H ├┤1        ├┤1            ├─╫─┤M├\n",
       "     └───┘└─────────┘└─────────────┘ ║ └╥┘\n",
       "c: 2/════════════════════════════════╩══╩═\n",
       "                                     0  1 "
      ]
     },
     "execution_count": 6,
     "metadata": {},
     "output_type": "execute_result"
    }
   ],
   "source": [
    "# create main grover circuit\n",
    "grover_circ = QuantumCircuit(2, 2)\n",
    "\n",
    "\n",
    "grover_circ.h([0, 1])\n",
    "grover_circ.append(oracle_gate, [0, 1])\n",
    "grover_circ.append(reflection_gate, [0, 1])\n",
    "\n",
    "# measure qubits\n",
    "grover_circ.measure([0, 1], [0, 1])\n",
    "\n",
    "grover_circ.draw()"
   ]
  },
  {
   "cell_type": "code",
   "execution_count": 7,
   "id": "2053aaf9",
   "metadata": {},
   "outputs": [],
   "source": [
    "# execute\n",
    "\n",
    "backend = Aer.get_backend('qasm_simulator')\n",
    "job = execute(grover_circ, backend, shots=1000)\n",
    "result = job.result()\n",
    "counts = result.get_counts()"
   ]
  },
  {
   "cell_type": "code",
   "execution_count": 8,
   "id": "dfa255fe",
   "metadata": {},
   "outputs": [
    {
     "name": "stdout",
     "output_type": "stream",
     "text": [
      "\n",
      "Value to Binary State Mapping:\n",
      "--------------------------------------------------\n",
      "Value 3: |11⟩\n",
      "Value 0: |00⟩\n",
      "Value 1: |01⟩\n",
      "Value 2: |10⟩\n",
      "\n",
      "Measurement Results:\n",
      "--------------------------------------------------\n",
      "State |00⟩:     0 counts (Value: 0)\n",
      "State |01⟩:     0 counts (Value: 1)\n",
      "State |10⟩:  1000 counts (Value: 2)\n",
      "State |11⟩:     0 counts (Value: 3)\n",
      "\n",
      "Search Results:\n",
      "--------------------------------------------------\n",
      "Most frequent state: |10⟩\n",
      "Found value: 2\n",
      "Target value was: 2\n",
      "Search successful\n"
     ]
    }
   ],
   "source": [
    "# display results\n",
    "\n",
    "print(\"\\nValue to Binary State Mapping:\")\n",
    "print(\"-\" * 50)\n",
    "for value in search_list:\n",
    "    binary = format(value, '02b')\n",
    "    print(f\"Value {value}: |{binary}⟩\")\n",
    "\n",
    "print(\"\\nMeasurement Results:\")\n",
    "print(\"-\" * 50)\n",
    "for state in ['00', '01', '10', '11']:\n",
    "    count = counts.get(state, 0)\n",
    "    value = int(state, 2)\n",
    "    print(f\"State |{state}⟩: {count:5d} counts (Value: {value})\")\n",
    "\n",
    "# find the most frequent state\n",
    "max_state = max(counts.items(), key=lambda x: x[1])\n",
    "\n",
    "# convert binary state directly to value\n",
    "found_value = int(max_state[0], 2)\n",
    "\n",
    "print(\"\\nSearch Results:\")\n",
    "print(\"-\" * 50)\n",
    "print(f\"Most frequent state: |{max_state[0]}⟩\")\n",
    "print(f\"Found value: {found_value}\")\n",
    "print(f\"Target value was: {target_value}\")\n",
    "print(f\"Search {'successful' if found_value == target_value else 'failed'}\")"
   ]
  },
  {
   "cell_type": "code",
   "execution_count": null,
   "id": "412d97a2",
   "metadata": {},
   "outputs": [],
   "source": []
  }
 ],
 "metadata": {
  "kernelspec": {
   "display_name": "Python 3",
   "language": "python",
   "name": "python3"
  },
  "language_info": {
   "codemirror_mode": {
    "name": "ipython",
    "version": 3
   },
   "file_extension": ".py",
   "mimetype": "text/x-python",
   "name": "python",
   "nbconvert_exporter": "python",
   "pygments_lexer": "ipython3",
   "version": "3.8.8"
  }
 },
 "nbformat": 4,
 "nbformat_minor": 5
}
